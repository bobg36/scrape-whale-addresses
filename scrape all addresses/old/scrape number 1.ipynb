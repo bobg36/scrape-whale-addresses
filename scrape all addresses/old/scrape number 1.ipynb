{
 "cells": [
  {
   "cell_type": "code",
   "execution_count": 34,
   "metadata": {},
   "outputs": [
    {
     "name": "stdout",
     "output_type": "stream",
     "text": [
      "[[1, '34xp4vRoCGJym3xR7yCVPFHoCNxv4Twseo', '299427'], [2, 'bc1qgdjqv0av3q56jvd82tkdjpy7gdp9ut8tlqmgrpmv24sq90ecnvqqjwvw97', '163011'], [3, '1P5ZEDWTKTFGxQjZphgWPQUpe554WKDfHQ', '115200'], [4, '35hK24tcLEWcgNA4JxpvbkNkoAcDGqQPsP 3-of-7', '107452'], [5, '37XuVSEpWW4trkfmvWzegTHQt7BdktSKUs', '94506'], [6, '38UmuUqPCrFmQo4khkomQwZ4VbY2nZMJ67 2-of-6', '85064'], [7, '1FeexV6bAHb8ybZjqQMjJrcCrHGW9sb6uF', '79957'], [8, '3LYJfcfHPXYJreMsASk2jkn69LWEYKzexb', '73601'], [9, 'bc1qa5wkgaew2dkv56kfvj49j0av5nml45x9ek9hz6', '69370'], [10, '3Kzh9qAqVWQhEsfQz7zEQL1EuSx5tyNLNS 2-of-3', '64803'], [11, '3LQeSjqS5aXJVCDGSHPR88QvjheTwrhP8N', '58815'], [12, '1LdRcdxfbSnmCYYNdeYpUnztiYzVfBEQeC', '53880'], [13, '1AC4fMwgY8j9onSbXEWeH6Zan8QGMSdmtA', '51830'], [14, 'bc1q5pucatprjrqltdp58f92mhqkfuvwpa43vhsjwpxlryude0plzyhqjkqazp', '45559'], [15, '1LruNZjwamWJXThX2Y8C2d47QqhAkkc5os', '44000'], [16, '3FGKwP7XQA9Gb27if7zQGJSSynbzWLrV3p', '40862'], [17, '385cR5DM96n1HvBDMzLHPYcw89fZAXULJP', '40602'], [18, '3Gpex6g5FPmYWm26myFq7dW12ntd8zMcCY', '40014'], [19, 'bc1q5shngj24323nsrmxv99st02na6srekfctt30ch', '40000'], [20, '36KAwNUR8VeLpUfGwdk7LEN6F4yvoRWMjn 2-of-3', '39709'], [21, '3D8qAoMkZ8F1b42btt2Mn5TyN7sWfa434A', '36001'], [22, '17hf5H8D6Yc4B7zHEg3orAtKn7Jhme7Adx', '36000'], [23, '3EBpAZUAW5Tzyd2FhmmUZnYgftxJkKSLmJ', '35237'], [24, '3LCGsSmfr24demGvriN4e3ft8wEcDuHFqh 2-of-2', '32969'], [25, '12XqeqZRVkBDgmPLVY4ZC6Y4ruUUEug8Fx', '32354'], [26, '12ib7dApVFvg82TXKycWBNpN8kFyiAN1dr', '31000'], [27, 'bc1qvpgyac88vqtslewxu7yu9dqwp8rd83zch55zpm3xgn3mgg72w3kqv0s8qa', '28830'], [28, '1NDyJtNTjmwk5xPNhjgAMu4HDHigtobu1s', '28507'], [29, '3FpYfDGJSdkMAvZvCrwPHDqdmGqUkTsJys', '28327'], [30, '12tkqA9xSoowkzoERHMWNKsTey55YEBqkv', '28151'], [31, '39WQqCosC8ZD4S9XBPHRnnRUeVRvNctnnm', '27908'], [32, '17MWdxfjPYP2PYhdy885QtihfbW181r1rn', '24495'], [33, '19D5J8c59P2bAkWKvxSYw8scD3KUNWoZ1C', '23969'], [34, '3JZq4atUahhuA9rLhXLMhhTo133J9rF97j', '23845'], [35, '1AnwDVbwsLBVwRfqN2x9Eo4YEJSPXo2cwG', '23228'], [36, '1932eKraQ3Ad9MeNBHb14WFQbNrLaKeEpT', '22900'], [37, '1MDq7zyLw6oKichbFiDDZ3aaK59byc6CT8', '22400'], [38, '1aXzEKiDJKzkPxTZy9zGc3y1nCDwDPub2', '22281'], [39, '14eQD1QQb8QFVG8YFwGz7skyzsvBLWLwJS', '22211'], [40, '3FupZp77ySr7jwoLYEJ9mwzJpvoNBXsBnE', '21185'], [41, '3ByyPAZmzANfV1sMALVU8zdorPUHEbkZZi', '20499'], [42, 'bc1qx9t2l3pyny2spqpqlye8svce70nppwtaxwdrp4', '20479'], [43, '3HSMPBUuAPQf6CU5B3qa6fALrrZXswHaF1', '20376'], [44, '3QJRVfnJpzfNe1dr8hprCQrKJTnuRNwyrw', '20206'], [45, 'bc1qtw30nantkrh7y5ue73gm4mmy0zezfqxug3psr94sd967qwg7f76scfmr9p', '20136'], [46, '17rm2dvb439dZqyMe2d4D6AQJSgg6yeNRn', '20008'], [47, '3H5JTt42K7RmZtromfTSefcMEFMMe18pMD', '19587'], [48, '1PeizMg76Cf96nUQrYg8xuoZWLQozU5zGW', '19414'], [49, '38FkZJ32qaNTieBFUVHqQS1LQAZK8VFKkx', '18800'], [50, '3DVJfEsDTPkGDvqPCLC41X85L1B1DQWDyh', '18433'], [51, '35ULMyVnFoYaPaMxwHTRmaGdABpAThM4QR', '17956'], [52, 'bc1qqnt4td9a8xqrqtswvf6n27x0p8n948l2fgye3r6f3yk2d9838scs77ptr3', '17865'], [53, '34MSicAL7qVGkevFPLwyc9KohGzoUSnu3Q', '15800'], [54, '1GR9qNz7zgtaW5HwwVpEJWMnGWhsbsieCG', '15746'], [55, '16S67V8PRG5sUh13Rgsj1AKVnpJYhHz4rN', '15464'], [56, '39gUvGynQ7Re3i15G3J2gp9DEB9LnLFPMN', '15248'], [57, '3ETUmNhL2JuCFFVNSpk8Bqx2eorxyP9FVh', '15191'], [58, '1KUr81aewyTFUfnq4ZrpePZqXixd59ToNn', '15000'], [59, '3BMEXxSMT2b2kvsnC4Q35d2kKJZ4u9bSLh', '14805'], [60, '3BMEXqGpG4FxBA1KWhRFufXfSTRgzfDBhJ 3-of-4', '14770'], [61, '3EMVdMehEq5SFipQ5UfbsfMsH223sSz9A9', '14199'], [62, '1BZaYtmXka1y3Byi2yvXCDG92Tjz7ecwYj', '14000'], [63, '19iqYbeATe4RxghQZJnYVFU4mjUUu76EA6', '11815'], [64, '19G5kkYvjawZiYKhFeh8WmfBN31pdP94Jr', '11102'], [65, '35pgGeez3ou6ofrpjt8T7bvC9t6RrUK4p6 2-of-3', '10983'], [66, '3KTQYXvjteNoMECi62JYuqXobYQpcHjoVs', '10943'], [67, '1F34duy2eeMz5mSrvFepVzy7Y1rBsnAyWC', '10771'], [68, 'bc1qhd0r5kh3u9mhac7de58qd2rdfx4kkv84kpx302', '10500'], [69, '3GQt3CF2w654acBveUh9DbdbXkTYovrfKg', '10088'], [70, '1f1miYFQWTzdLiCBxtHHnNiW7WAWPUccr', '10009'], [71, '3E5B5QbDjUL471PEed9vZDwCSck9btBLkD', '10002'], [72, '1BAFWQhH9pNkz3mZDQ1tWrtKkSHVCkc3fV', '10000'], [73, '14YK4mzJGo5NKkNnmVJeuEAQftLt795Gec', '10000'], [74, '1Ki3WTEEqTLPNsN5cGTsMkL2sJ4m5mdCXT', '10000'], [75, '1KbrSKrT3GeEruTuuYYUSQ35JwKbrAWJYm', '10000'], [76, '1P1iThxBH542Gmk1kZNXyji4E4iwpvSbrt', '10000'], [77, '12tLs9c9RsALt4ockxa1hB4iTCTSmxj2me', '10000'], [78, '1ucXXZQSEf4zny2HRwAQKtVpkLPTUKRtt', '10000'], [79, '1CPaziTqeEixPoSFtJxu74uDGbpEAotZom', '10000'], [80, '1LfV1tSt3KNyHpFJnAzrqsLFdeD2EvU1MK', '10000'], [81, '1PN1xjngm9jhY9duuR8af7CXmK3QVcsixJ', '10000'], [82, '3DwVjwVeJa9Z5Pu15WHNfKcDxY5tFUGfdx', '10000'], [83, '1LbUMzM7tmyVJCpzBJTi5ZVmRb2Vn8mwVH', '10000'], [84, '1AMDVupuTEeTSnKi6LoSFBqikQybufZsv1', '10000'], [85, '1DTmjcZo3MMH9MscHizTLjrUxnvwvSLdf7', '10000'], [86, '1JpAvQxbxurhU8wfxszCtzFey4D6N8goJv', '10000'], [87, '1EU2pMence1UfifCco2UHJCdoqorAtpT7', '10000'], [88, '1AFNceZVB2MshqU5AEoxg14R7LrUx6Un6C', '9982'], [89, '1BxgwUXszgVMrs9ZSfdcGLqne2vMYaW8jf', '9895'], [90, '3265tcUcp8dBhBBwp4rKN3iyUptuHkzMq7', '9759'], [91, '1Kd6zLb9iAjcrgq8HzWnoWNVLYYWjp3swA', '9707'], [92, 'bc1qajh7jfy44sswutqlwj2tz9wcejpxrgflc8penw', '9500'], [93, '1P9fAFAsSLRmMu2P7wZ5CXDPRfLSWTy9N8', '9425'], [94, '1HLvaTs3zR3oev9ya7Pzp3GB9Gqfg6XYJT', '9260'], [95, '3QB2qhnj5Xxwhh3GKcfwQDSkL91BCCn5cp', '9151'], [96, 'bc1qh4cpaydaqlzez8ekkasm3ygj4us7gwxsghh047', '9112'], [97, '17CzhFvGwH6TT46JtzhnhMpTw4mHYpEGCR', '9107'], [98, 'bc1q78wmm8xnhveklsparpeq6drlg9wlq4lyahkqfp', '9099'], [99, '1Cr7EjvS8C7gfarREHCvFhd9gT3r46pfLb', '9050'], [100, '1J1F3U7gHrCjsEsRimDJ3oYBiV24wA8FuV', '9000']]\n"
     ]
    }
   ],
   "source": [
    "#save table as csv, 1-19, 20-100 for some reason has to be done separately\r\n",
    "f = open(\"page1.txt\", \"r\")\r\n",
    "lines = f.readlines()\r\n",
    "f.close()\r\n",
    "\r\n",
    "page1_list = []\r\n",
    "for line in lines:\r\n",
    "    line = line.split('Balance:')\r\n",
    "\r\n",
    "    rank_address = line[0]\r\n",
    "    rank_address = rank_address.split(',\"')\r\n",
    "    rank_clean = rank_address[0]\r\n",
    "    rank_clean = int(rank_clean)\r\n",
    "\r\n",
    "    address_raw = rank_address[1]\r\n",
    "    address_dot = address_raw.replace(\"..\", \"\")\r\n",
    "    address_clean = address_dot\r\n",
    "    if(\"wallet\" in address_dot):\r\n",
    "        address_dot = address_dot.split(\"wallet\")\r\n",
    "        address_clean = address_dot[0]\r\n",
    "    if(\"-of-\" in address_dot):\r\n",
    "        address_of = address_dot.split(\"-of-\")\r\n",
    "        address_of = address_of[0]\r\n",
    "        address_clean = address_of[0:len(address_of)-2]\r\n",
    "\r\n",
    "    balance_raw = line[1]\r\n",
    "    balance_comma = balance_raw.split(\" BTC\")\r\n",
    "    balance_comma = balance_comma[0]\r\n",
    "    balance_clean = balance_comma.replace(\",\", \"\")\r\n",
    "\r\n",
    "    page1_list.append([rank_clean, address_clean, balance_clean])\r\n",
    "\r\n",
    "f = open('address_list_page1.txt', 'w')\r\n",
    "for item in page1_list:\r\n",
    "    f.write(str(item) + '\\n')\r\n",
    "f.close()\r\n"
   ]
  },
  {
   "cell_type": "code",
   "execution_count": null,
   "metadata": {},
   "outputs": [],
   "source": []
  }
 ],
 "metadata": {
  "interpreter": {
   "hash": "3926f276a679303c71cfc85286f933d8dac409fc69332aa5282b6d6f8849d2ea"
  },
  "kernelspec": {
   "display_name": "Python 3.9.4 64-bit",
   "name": "python3"
  },
  "language_info": {
   "codemirror_mode": {
    "name": "ipython",
    "version": 3
   },
   "file_extension": ".py",
   "mimetype": "text/x-python",
   "name": "python",
   "nbconvert_exporter": "python",
   "pygments_lexer": "ipython3",
   "version": "3.9.4"
  }
 },
 "nbformat": 4,
 "nbformat_minor": 5
}